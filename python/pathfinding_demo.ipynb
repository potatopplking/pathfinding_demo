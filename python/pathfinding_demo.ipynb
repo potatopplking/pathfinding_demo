{
 "cells": [
  {
   "cell_type": "markdown",
   "id": "16f8fedb-ac10-450c-b5c7-f820a985902d",
   "metadata": {
    "editable": true,
    "slideshow": {
     "slide_type": ""
    },
    "tags": []
   },
   "source": [
    "# Pathfinding demo\n",
    "\n",
    "## List of methods\n",
    "\n",
    "Non-exhaustive list of methods follows.\n",
    "\n",
    "$V$ is the set of all vertices; $E$ is the set of all edges; $|V|$ is the size of the set\n",
    "\n",
    "1. Depth-first search\n",
    "    - s\n",
    "1. [Bellman-Ford algorithm](https://en.wikipedia.org/wiki/Bellman%E2%80%93Ford_algorithm)\n",
    "    - exhaustive method\n",
    "    - $O(|V|*|E|)$\n",
    "2. Dijkstra\n",
    "3. A*"
   ]
  },
  {
   "cell_type": "code",
   "execution_count": 85,
   "id": "fbdf9d2c-d050-4744-b559-abc71e550725",
   "metadata": {
    "editable": true,
    "slideshow": {
     "slide_type": ""
    },
    "tags": []
   },
   "outputs": [],
   "source": [
    "#\n",
    "# Imports\n",
    "#\n",
    "\n",
    "import matplotlib.pyplot as plt\n",
    "import numpy as np\n",
    "from typing import Protocol, Optional"
   ]
  },
  {
   "cell_type": "code",
   "execution_count": 86,
   "id": "c704cf15-95fa-49c1-af1b-c99f7b5c8b95",
   "metadata": {
    "editable": true,
    "slideshow": {
     "slide_type": ""
    },
    "tags": []
   },
   "outputs": [],
   "source": [
    "#\n",
    "# Type and interfaces definition\n",
    "#\n",
    "\n",
    "type Point2D = tuple[int, int] # tuple(x, y)\n",
    "type Path = list[Point2D]\n",
    "type ElapsedTime_ns = float # nanoseconds\n",
    "type VisitedNodeCount = int\n",
    "\n",
    "class Map:\n",
    "    \"\"\"\n",
    "    2D map consisting of cells with given cost\n",
    "    \"\"\"\n",
    "    array: np.array\n",
    "\n",
    "    def __init__(self, width: int, height: int) -> None:\n",
    "        assert width > 0\n",
    "        assert height > 0\n",
    "        self.array = np.zeros((width, height), dtype=np.float64)\n",
    "\n",
    "    def Randomize(self, low: float = 0.0, high: float = 1.0) -> None:\n",
    "        self.array = np.random.uniform(low, high, self.array.shape)\n",
    "\n",
    "    def GetCost(self, point: Point2D) -> float:\n",
    "        return self.array[point]\n",
    "    \n",
    "    def IsPointValid(self, point: Point2D) -> bool:\n",
    "        ...\n",
    "    \n",
    "    def GetNeighbours(self) -> list[Point2D]:\n",
    "        ...\n",
    "\n",
    "        \n",
    "\n",
    "class PathFinder(Protocol):\n",
    "    def SetMap(m: Map) -> None:\n",
    "        ...\n",
    "\n",
    "    def CalculatePath(start: Point2D, end: Point2D) -> Path:\n",
    "        \"\"\"\n",
    "        Calculate path on a given map.\n",
    "        Note: map must be set first using SetMap (or using constructor)\n",
    "        \"\"\"\n",
    "\n",
    "    def GetStats() -> (ElapsedTime_ns, VisitedNodeCount):\n",
    "        \"\"\"\n",
    "        Return performance stats for the last calculation:\n",
    "        - elapsed time in nanoseconds,\n",
    "        - number of visited nodes during search\n",
    "        \"\"\"\n"
   ]
  },
  {
   "cell_type": "code",
   "execution_count": 87,
   "id": "043a1f1c-a7a7-4f24-b69c-c6c809830111",
   "metadata": {
    "editable": true,
    "slideshow": {
     "slide_type": ""
    },
    "tags": []
   },
   "outputs": [],
   "source": [
    "#\n",
    "# Drawing utilities\n",
    "#\n",
    "\n",
    "class Visualizer:\n",
    "    _axes: Optional[plt.Axes]\n",
    "    _cmap: plt.Colormap\n",
    "    _cmap_counter: int\n",
    "    \n",
    "    def __init__(self):\n",
    "        self._axes = None\n",
    "        self._cmap = plt.get_cmap('tab10')\n",
    "        self._cmap_counter = 0\n",
    "    \n",
    "    def DrawMap(self, m: Map):\n",
    "        M, N = m.array.shape\n",
    "        _, ax = plt.subplots()\n",
    "        ax.imshow(m.array, cmap='terrain', origin='lower', interpolation='none')\n",
    "        self._axes = ax\n",
    "\n",
    "    def DrawPath(self, path: Path, label: str = \"Path\"):\n",
    "        \"\"\"\n",
    "        Draw path on a map. Note that DrawMap has to be called first\n",
    "        \"\"\"\n",
    "        assert self._axes is not None, \"DrawMap must be called first\"\n",
    "        xs, ys = zip(*path)\n",
    "        color = self._cmap(self._cmap_counter)\n",
    "        self._cmap_counter += 1\n",
    "        self._axes.plot(xs, ys, 'o-', color=color, label=label)\n",
    "        self._axes.plot(xs[0],  ys[0],  'o', color='lime',  markersize=8)  # starting point\n",
    "        self._axes.plot(xs[-1], ys[-1], 'o', color='magenta', markersize=8)  # end point\n",
    "        "
   ]
  },
  {
   "cell_type": "code",
   "execution_count": 88,
   "id": "859c64f4-e65c-4905-a775-c6f17542eac8",
   "metadata": {},
   "outputs": [],
   "source": [
    "#\n",
    "# Method: depth-first search\n",
    "#\n",
    "\n",
    "class DFS:\n",
    "\n",
    "    name = \"Depth First Search\"\n",
    "    _map: Optional[Map]\n",
    "    \n",
    "    def __init__(self) -> None:\n",
    "        self._map = None\n",
    "    \n",
    "    def SetMap(self, m: Map) -> None:\n",
    "        self._map = m\n",
    "        \n",
    "    def CalculatePath(self, start: Point2D, end: Point2D) -> Path:\n",
    "        assert m is not None, \"SetMap must be called first\"\n",
    "        return [(0,0), (5,5), (6,6), (1,9)]\n",
    "\n",
    "    def GetStats(self) -> (ElapsedTime_ns, VisitedNodeCount):\n",
    "        return 150.0, 42\n",
    "\n",
    "\n",
    "class BFS:\n",
    "\n",
    "    name = \"Breadth First Search\"\n",
    "    _map: Optional[Map]\n",
    "    \n",
    "    def __init__(self) -> None:\n",
    "        self._map = None\n",
    "    \n",
    "    def SetMap(self, m: Map) -> None:\n",
    "        self._map = m\n",
    "        \n",
    "    def CalculatePath(self, start: Point2D, end: Point2D) -> Path:\n",
    "        assert m is not None, \"SetMap must be called first\"\n",
    "        return [(0,0), (1,0), (2,0), (3,0)]\n",
    "\n",
    "    def GetStats(self) -> (ElapsedTime_ns, VisitedNodeCount):\n",
    "        return 300.0, 21"
   ]
  },
  {
   "cell_type": "code",
   "execution_count": 89,
   "id": "ece3a6c8-aa1d-49a8-9f4c-06ebff72f991",
   "metadata": {
    "editable": true,
    "slideshow": {
     "slide_type": ""
    },
    "tags": []
   },
   "outputs": [
    {
     "name": "stdout",
     "output_type": "stream",
     "text": [
      "Breadth First Search  : took 300.0 ns, visited 21 nodes\n",
      "Depth First Search    : took 150.0 ns, visited 42 nodes\n"
     ]
    },
    {
     "data": {
      "image/png": "[encoded data removed]",
      "text/plain": [
       "<Figure size 640x480 with 1 Axes>"
      ]
     },
     "metadata": {},
     "output_type": "display_data"
    }
   ],
   "source": [
    "# Define the map and start/stop points\n",
    "m = Map(10, 10)\n",
    "m.Randomize()\n",
    "starting_point: Point2D = (0,0)\n",
    "end_point: Point2D = (9,9)\n",
    "\n",
    "#\n",
    "# Calculate paths using various methods and visualize them\n",
    "#\n",
    "\n",
    "path_finder_classes: list[PathFinder] = {\n",
    "    DFS, BFS\n",
    "}\n",
    "\n",
    "v = Visualizer()\n",
    "v.DrawMap(m)\n",
    "\n",
    "for pt in path_finder_classes:\n",
    "    path_finder = pt()\n",
    "    path_finder.SetMap(m)\n",
    "    path = path_finder.CalculatePath(starting_point, end_point)\n",
    "    elapsed_time, visited_nodes = path_finder.GetStats()\n",
    "    print(f\"{path_finder.name:22}: took {elapsed_time} ns, visited {visited_nodes} nodes\")\n",
    "    v.DrawPath(path)\n",
    "\n"
   ]
  },
  {
   "cell_type": "code",
   "execution_count": null,
   "id": "2ec9fb78-089d-4d51-9f16-087a04b4e8a4",
   "metadata": {
    "editable": true,
    "slideshow": {
     "slide_type": ""
    },
    "tags": []
   },
   "outputs": [],
   "source": []
  },
  {
   "cell_type": "code",
   "execution_count": null,
   "id": "b050caaa-d9b5-4a22-8e6d-aaccfaa4fb1b",
   "metadata": {
    "editable": true,
    "slideshow": {
     "slide_type": ""
    },
    "tags": []
   },
   "outputs": [],
   "source": []
  }
 ],
 "metadata": {
  "kernelspec": {
   "display_name": "Python 3 (ipykernel)",
   "language": "python",
   "name": "python3"
  },
  "language_info": {
   "codemirror_mode": {
    "name": "ipython",
    "version": 3
   },
   "file_extension": ".py",
   "mimetype": "text/x-python",
   "name": "python",
   "nbconvert_exporter": "python",
   "pygments_lexer": "ipython3",
   "version": "3.13.7"
  }
 },
 "nbformat": 4,
 "nbformat_minor": 5
}
