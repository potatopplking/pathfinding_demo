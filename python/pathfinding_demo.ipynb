{
  "metadata": {
    "kernelspec": {
      "name": "python",
      "display_name": "Python (Pyodide)",
      "language": "python"
    },
    "language_info": {
      "codemirror_mode": {
        "name": "python",
        "version": 3
      },
      "file_extension": ".py",
      "mimetype": "text/x-python",
      "name": "python",
      "nbconvert_exporter": "python",
      "pygments_lexer": "ipython3",
      "version": "3.8"
    }
  },
  "nbformat_minor": 5,
  "nbformat": 4,
  "cells": [
    {
      "id": "16f8fedb-ac10-450c-b5c7-f820a985902d",
      "cell_type": "markdown",
      "source": "# Pathfinding demo",
      "metadata": {
        "tags": [],
        "slideshow": {
          "slide_type": ""
        },
        "editable": true
      }
    },
    {
      "id": "fbdf9d2c-d050-4744-b559-abc71e550725",
      "cell_type": "code",
      "source": "#\n# Imports\n#\n\nimport matplotlib.pyplot as plt\nimport numpy as np\nfrom typing import Protocol\nfrom dataclasses import dataclass",
      "metadata": {
        "trusted": true,
        "tags": [],
        "editable": true,
        "slideshow": {
          "slide_type": ""
        }
      },
      "outputs": [],
      "execution_count": null
    },
    {
      "id": "c704cf15-95fa-49c1-af1b-c99f7b5c8b95",
      "cell_type": "code",
      "source": "#\n# Type and interfaces definition\n#\n\nPoint2D = tuple[int, int] # tuple(x, y)\nPath = list[Point2D]\n\nclass Map:\n    \"\"\"\n    2D map consisting of cells with given cost\n    \"\"\"\n    array: np.array\n\n    def __init__(self, width: int, height: int):\n        assert width > 0\n        assert height > 0\n        self.array = np.zeros((width, height))\n\n    def randomize(self, low: float = 0.0, high: float = 1.0):\n        self.array = np.random.uniform(low, high, self.array.shape)\n\n        \n\nclass PathFinder(Protocol):\n    def SetMap(m: Map):\n        ...\n    def SetStartingPoint(p: Point2D):\n        ...\n    def SetEndPoint(p: Point2D):\n        ...\n    def CalculatePath() -> Path:\n        \"\"\"\n        Calculate path on a given map.\n        Note: map must be set first using SetMap\n        \"\"\"\n        ...",
      "metadata": {
        "trusted": true,
        "tags": [],
        "editable": true,
        "slideshow": {
          "slide_type": ""
        }
      },
      "outputs": [],
      "execution_count": 34
    },
    {
      "id": "043a1f1c-a7a7-4f24-b69c-c6c809830111",
      "cell_type": "code",
      "source": "#\n# Drawing utilities\n#\n\nclass Visualizer:\n    _axes: plt.Axes\n\n    def draw_map(self, m: Map) -> tuple[plt.Figure, plt.Axes]:\n        M, N = m.array.shape\n        _, ax = plt.subplots()\n        ax.imshow(m.array, cmap='terrain', origin='lower', interpolation='none')\n        self._axes = ax\n\n    def draw_path(self, path: Path, color='red', label: str = None):\n        xs, ys = zip(*path)                \n        self._axes.plot(xs, ys, 'o-', color='blue', label='Path')\n        self._axes.plot(xs[0],  ys[0],  'o', color='lime',  markersize=8)  # start\n        self._axes.plot(xs[-1], ys[-1], 'o', color='magenta', markersize=8)  # goal\n        ",
      "metadata": {
        "trusted": true,
        "tags": [],
        "editable": true,
        "slideshow": {
          "slide_type": ""
        }
      },
      "outputs": [],
      "execution_count": 68
    },
    {
      "id": "ece3a6c8-aa1d-49a8-9f4c-06ebff72f991",
      "cell_type": "code",
      "source": "m = Map(10, 10)\nm.randomize()\npath: Path = [(0,0), (5,5), (6,6), (1,9)]\nv = Visualizer()\nv.draw_map(m)\nprint(path)\nv.draw_path(path)",
      "metadata": {
        "trusted": true,
        "tags": [],
        "editable": true,
        "slideshow": {
          "slide_type": ""
        }
      },
      "outputs": [
        {
          "name": "stdout",
          "output_type": "stream",
          "text": "[(0, 0), (5, 5), (6, 6), (1, 9)]\n"
        },
        {
          "output_type": "display_data",
          "data": {
            "text/plain": "<Figure size 640x480 with 1 Axes>",
            "image/png": "[encoded data removed]"
          },
          "metadata": {}
        }
      ],
      "execution_count": 69
    },
    {
      "id": "2ec9fb78-089d-4d51-9f16-087a04b4e8a4",
      "cell_type": "code",
      "source": "",
      "metadata": {
        "trusted": true,
        "tags": [],
        "editable": true,
        "slideshow": {
          "slide_type": ""
        }
      },
      "outputs": [],
      "execution_count": null
    },
    {
      "id": "b050caaa-d9b5-4a22-8e6d-aaccfaa4fb1b",
      "cell_type": "code",
      "source": "",
      "metadata": {
        "trusted": true,
        "tags": [],
        "editable": true,
        "slideshow": {
          "slide_type": ""
        }
      },
      "outputs": [],
      "execution_count": null
    }
  ]
}